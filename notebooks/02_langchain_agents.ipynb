{
 "cells": [
  {
   "cell_type": "markdown",
   "id": "3d68082f",
   "metadata": {},
   "source": [
    "<div dir=\"rtl\" align=\"right\">\n",
    "\n",
    "# آشنایی با ایجنت‌ها (Agents) در LangChain\n",
    "در این بخش، با مفهوم ایجنت‌ها در LangChain آشنا می‌شویم و یک سناریوی کاربردی را با هم پیاده‌سازی می‌کنیم.\n",
    "\n",
    "ایجنت‌ها به مدل اجازه می‌دهند تا بر اساس نیاز، ابزارهای مختلفی مثل جستجو، ماشین حساب یا مدل زبانی را انتخاب و استفاده کند.\n",
    "\n",
    "</div>"
   ]
  },
  {
   "cell_type": "markdown",
   "id": "d6eec53d",
   "metadata": {},
   "source": [
    "<div dir=\"rtl\" align=\"right\">\n",
    "\n",
    "## سناریو: دستیار چندکاره\n",
    "در این سناریو، یک دستیار هوشمند می‌سازیم که می‌تواند به سوالات کاربر پاسخ دهد؛ چه با جستجو در ویکی‌پدیا، چه با انجام محاسبات ریاضی، یا تولید متن خلاقانه.\n",
    "\n",
    "مثال:\n",
    "- \"پایتخت فرانسه کجاست؟\" (جستجو)\n",
    "- \"حاصل ۲۳ ضربدر ۴۵ چند می‌شود؟\" (ماشین حساب)\n",
    "- \"یک شعر کوتاه درباره دریا بنویس.\" (مدل زبانی)\n",
    "\n",
    "</div>"
   ]
  },
  {
   "cell_type": "code",
   "execution_count": 1,
   "id": "d76022d8",
   "metadata": {},
   "outputs": [],
   "source": [
    "from dotenv import load_dotenv\n",
    "import os\n",
    "\n",
    "from langchain_openai import ChatOpenAI\n",
    "from langchain_community.tools import WikipediaQueryRun\n",
    "from langchain_community.utilities import WikipediaAPIWrapper\n",
    "from langchain_core.tools import tool\n",
    "from langchain.agents import create_openai_functions_agent, AgentExecutor\n",
    "from langchain_core.prompts import ChatPromptTemplate, MessagesPlaceholder"
   ]
  },
  {
   "cell_type": "code",
   "execution_count": 2,
   "id": "946c685f",
   "metadata": {},
   "outputs": [],
   "source": [
    "# leading the API key from environment variables\n",
    "load_dotenv()\n",
    "os.environ[\"OPENAI_API_KEY\"] = os.getenv(\"OPENAI_API_KEY\")"
   ]
  },
  {
   "cell_type": "code",
   "execution_count": 3,
   "id": "a469a782",
   "metadata": {},
   "outputs": [],
   "source": [
    "# choosing the language model\n",
    "llm = ChatOpenAI(model=\"gpt-3.5-turbo\", temperature=0)"
   ]
  },
  {
   "cell_type": "code",
   "execution_count": 4,
   "id": "3e8bc910",
   "metadata": {},
   "outputs": [],
   "source": [
    "# basic calculator tool\n",
    "# this tool evaluates simple mathematical expressions\n",
    "@tool\n",
    "def calculator(expression: str) -> str:\n",
    "    \"\"\"محاسبه یک عبارت ریاضی ساده\"\"\"\n",
    "    try:\n",
    "        return str(eval(expression))\n",
    "    except Exception as e:\n",
    "        return f\"خطا: {e}\""
   ]
  },
  {
   "cell_type": "code",
   "execution_count": 5,
   "id": "2f457e37",
   "metadata": {},
   "outputs": [],
   "source": [
    "# Wikipedia tool\n",
    "# this tool queries Wikipedia for information\n",
    "wiki_wrapper = WikipediaAPIWrapper()\n",
    "wikipedia = WikipediaQueryRun(api_wrapper=wiki_wrapper)"
   ]
  },
  {
   "cell_type": "code",
   "execution_count": null,
   "id": "ba6056d6",
   "metadata": {},
   "outputs": [],
   "source": [
    "tools = [calculator, wikipedia]"
   ]
  },
  {
   "cell_type": "code",
   "execution_count": null,
   "id": "880742f6",
   "metadata": {},
   "outputs": [],
   "source": [
    "# Agent prompt template\n",
    "# this template defines how the agent should respond to user inputs\n",
    "prompt = ChatPromptTemplate.from_messages([\n",
    "    (\"system\", \"شما یک دستیار هوشمند فارسی هستید که می‌توانید از ابزارهای مختلف برای پاسخ به سوالات استفاده کنید.\"),\n",
    "    MessagesPlaceholder(variable_name=\"chat_history\"),\n",
    "    MessagesPlaceholder(variable_name=\"agent_scratchpad\"),\n",
    "    (\"human\", \"{input}\")\n",
    "])\n",
    "\n",
    "# Creating the agent\n",
    "# this agent uses the defined tools and prompt to answer questions\n",
    "agent = create_openai_functions_agent(llm=llm, tools=tools, prompt=prompt)\n",
    "agent_executor = AgentExecutor(agent=agent, tools=tools, verbose=True)"
   ]
  },
  {
   "cell_type": "code",
   "execution_count": null,
   "id": "2968320d",
   "metadata": {},
   "outputs": [
    {
     "name": "stderr",
     "output_type": "stream",
     "text": [
      "Error in StdOutCallbackHandler.on_chain_start callback: AttributeError(\"'NoneType' object has no attribute 'get'\")\n"
     ]
    },
    {
     "name": "stdout",
     "output_type": "stream",
     "text": [
      "\n",
      "❓ سؤال: پایتخت فرانسه کجاست؟\n",
      "\u001b[32;1m\u001b[1;3m\n",
      "Invoking: `wikipedia` with `{'query': 'پایتخت فرانسه'}`\n",
      "\n",
      "\n",
      "\u001b[0m\u001b[33;1m\u001b[1;3mPage: Isfahan Seminary\n",
      "Summary: The Isfahan Seminary (Persian: حوزه علمیه اصفهان) is one of the oldest seminaries in Isfahan, Iran. Currently, more than 40 schools in Isfahan province are under the supervision of the Management Center of Isfahan Seminary and the leadership of the supreme authority of Grand Ayatollah Hossein Mazaheri.\u001b[0m"
     ]
    },
    {
     "name": "stderr",
     "output_type": "stream",
     "text": [
      "Error in StdOutCallbackHandler.on_chain_start callback: AttributeError(\"'NoneType' object has no attribute 'get'\")\n"
     ]
    },
    {
     "name": "stdout",
     "output_type": "stream",
     "text": [
      "\u001b[32;1m\u001b[1;3mپایتخت فرانسه شهر پاریس است.\u001b[0m\n",
      "\n",
      "\u001b[1m> Finished chain.\u001b[0m\n",
      "✅ پاسخ: پایتخت فرانسه شهر پاریس است.\n",
      "\n",
      "❓ سؤال: حاصل ۲۳ ضربدر ۴۵ چند می‌شود؟\n",
      "\u001b[32;1m\u001b[1;3m\n",
      "Invoking: `calculator` with `{'expression': '23*45'}`\n",
      "\n",
      "\n",
      "\u001b[0m\u001b[36;1m\u001b[1;3m1035\u001b[0m"
     ]
    },
    {
     "name": "stderr",
     "output_type": "stream",
     "text": [
      "Error in StdOutCallbackHandler.on_chain_start callback: AttributeError(\"'NoneType' object has no attribute 'get'\")\n"
     ]
    },
    {
     "name": "stdout",
     "output_type": "stream",
     "text": [
      "\u001b[32;1m\u001b[1;3mحاصل ضرب ۲۳ در ۴۵ برابر با ۱۰۳۵ می‌شود.\u001b[0m\n",
      "\n",
      "\u001b[1m> Finished chain.\u001b[0m\n",
      "✅ پاسخ: حاصل ضرب ۲۳ در ۴۵ برابر با ۱۰۳۵ می‌شود.\n",
      "\n",
      "❓ سؤال: یک شعر کوتاه درباره دریا بنویس.\n",
      "\u001b[32;1m\u001b[1;3mدریا آرامشی بی پایان\n",
      "در امواجش پنهان شده رازهای جهان\u001b[0m\n",
      "\n",
      "\u001b[1m> Finished chain.\u001b[0m\n",
      "✅ پاسخ: دریا آرامشی بی پایان\n",
      "در امواجش پنهان شده رازهای جهان\n"
     ]
    }
   ],
   "source": [
    "# Running the agent with example questions\n",
    "examples = [\n",
    "    \"پایتخت فرانسه کجاست؟\",\n",
    "    \"حاصل ۲۳ ضربدر ۴۵ چند می‌شود؟\",\n",
    "    \"یک شعر کوتاه درباره دریا بنویس.\"\n",
    "]\n",
    "\n",
    "# Displaying the results for each question\n",
    "for question in examples:\n",
    "    print(f\"\\n❓ سؤال: {question}\")\n",
    "    result = agent_executor.invoke({\"input\": question, \"chat_history\": []})\n",
    "    print(\"✅ پاسخ:\", result[\"output\"])"
   ]
  },
  {
   "cell_type": "markdown",
   "id": "b6109f3b",
   "metadata": {},
   "source": [
    "<div dir=\"rtl\" align=\"right\">\n",
    "\n",
    "در این مثال، ایجنت به طور خودکار تشخیص می‌دهد که برای هر سوال باید از چه ابزاری استفاده کند و پاسخ مناسب را تولید می‌کند. شما می‌توانید سوالات خود را جایگزین کنید و عملکرد ایجنت را آزمایش کنید.\n",
    "\n",
    "</div>"
   ]
  }
 ],
 "metadata": {
  "kernelspec": {
   "display_name": "base",
   "language": "python",
   "name": "python3"
  },
  "language_info": {
   "codemirror_mode": {
    "name": "ipython",
    "version": 3
   },
   "file_extension": ".py",
   "mimetype": "text/x-python",
   "name": "python",
   "nbconvert_exporter": "python",
   "pygments_lexer": "ipython3",
   "version": "3.8.8"
  }
 },
 "nbformat": 4,
 "nbformat_minor": 5
}
