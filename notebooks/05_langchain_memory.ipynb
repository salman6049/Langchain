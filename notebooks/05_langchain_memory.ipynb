{
 "cells": [
  {
   "cell_type": "markdown",
   "id": "2b75dd00",
   "metadata": {},
   "source": [
    "<div dir=\"rtl\" align=\"right\">\n",
    "\n",
    "# بخش ۵: حافظه در LangChain با مدل Groq\n",
    "\n",
    "در این قسمت، یاد می‌گیریم چطور یک چت‌بات بسازیم که مکالمات قبلی را به خاطر می‌سپارد و پاسخ‌های مرتبط‌تر می‌دهد. این قابلیت برای گفتگوهای واقعی و کاربردی بسیار مهم است.\n",
    "</div>"
   ]
  },
  {
   "cell_type": "code",
   "execution_count": null,
   "id": "95ef43e6",
   "metadata": {},
   "outputs": [],
   "source": [
    "from dotenv import load_dotenv\n",
    "import os\n",
    "\n",
    "load_dotenv()\n",
    "groq_api_key = os.getenv(\"GROQ_API_KEY\")\n",
    "\n",
    "from langchain_groq import ChatGroq\n",
    "\n",
    "llm = ChatGroq(model=\"llama-3.1-8b-instant\", temperature=0.2)"
   ]
  },
  {
   "cell_type": "markdown",
   "id": "67cc4bc5",
   "metadata": {},
   "source": [
    "<div dir=\"rtl\" align=\"right\">\n",
    "\n",
    "### مشکل: مدل‌های زبانی بدون حافظه\n",
    "\n",
    "مدل‌های زبانی (LLM) به طور پیش‌فرض هیچ حافظه‌ای از پیام‌های قبلی ندارند و هر بار سؤال را مستقل از قبل پاسخ می‌دهند. بیایید این مشکل را با یک مثال ساده ببینیم.\n",
    "</div>"
   ]
  },
  {
   "cell_type": "code",
   "execution_count": 2,
   "id": "0476319e",
   "metadata": {},
   "outputs": [
    {
     "name": "stdout",
     "output_type": "stream",
     "text": [
      "👤 شما: سلام! اسم من علی است.\n",
      "🤖 بات: سلام علی! خوشحالیم که با شما صحبت کنیم. آیا می‌خواهید درباره چیزی خاص صحبت کنیم یا فقط می‌خواهید به گفتگو بپردازیم؟\n",
      "\n",
      "👤 شما: یادته اسم من چی بود؟\n",
      "🤖 بات: سلام علی! خوشحالیم که با شما صحبت کنیم. آیا می‌خواهید درباره چیزی خاص صحبت کنیم یا فقط می‌خواهید به گفتگو بپردازیم؟\n",
      "\n",
      "👤 شما: یادته اسم من چی بود؟\n",
      "🤖 بات: متاسفم، اما من نمی‌توانم به شما یادآوری اسم خودت کنم. من یک مدل زبان است و هر بار که با شما صحبت می‌کنم، یک جلسه جدید را شروع می‌کنم و هیچ اطلاعاتی را از جلسات قبلی به خاطر نمی‌سپارم. اگر می‌خواهید با من صحبت کنید، می‌توانیم شروع به صحبت کنیم و من می‌توانم به شما کمک کنم.\n",
      "\n",
      "👤 شما: اسم خودت رو بگو.\n",
      "🤖 بات: متاسفم، اما من نمی‌توانم به شما یادآوری اسم خودت کنم. من یک مدل زبان است و هر بار که با شما صحبت می‌کنم، یک جلسه جدید را شروع می‌کنم و هیچ اطلاعاتی را از جلسات قبلی به خاطر نمی‌سپارم. اگر می‌خواهید با من صحبت کنید، می‌توانیم شروع به صحبت کنیم و من می‌توانم به شما کمک کنم.\n",
      "\n",
      "👤 شما: اسم خودت رو بگو.\n",
      "🤖 بات: من یک مدل زبان هوش مصنوعی هستم و اسم من \"سام\" است.\n",
      "\n",
      "👤 شما: الان چی پرسیدم؟\n",
      "🤖 بات: من یک مدل زبان هوش مصنوعی هستم و اسم من \"سام\" است.\n",
      "\n",
      "👤 شما: الان چی پرسیدم؟\n",
      "🤖 بات: شما هیچ سؤال خاصی نپرسیده‌اید. اگر می‌خواهید سؤال کنید، من آماده پاسخ‌گویی هستم.\n",
      "\n",
      "🤖 بات: شما هیچ سؤال خاصی نپرسیده‌اید. اگر می‌خواهید سؤال کنید، من آماده پاسخ‌گویی هستم.\n",
      "\n"
     ]
    }
   ],
   "source": [
    "inputs = [\n",
    "    \"سلام! اسم من علی است.\",\n",
    "    \"یادته اسم من چی بود؟\",\n",
    "    \"اسم خودت رو بگو.\",\n",
    "    \"الان چی پرسیدم؟\"\n",
    " ]\n",
    "\n",
    "for msg in inputs:\n",
    "    print(f\"👤 شما: {msg}\")\n",
    "    print(f\"🤖 بات: {llm.invoke(msg).content}\\n\")"
   ]
  },
  {
   "cell_type": "markdown",
   "id": "00e5eca2",
   "metadata": {},
   "source": [
    "<div dir=\"rtl\" align=\"right\">\n",
    "\n",
    "### معرفی حافظه و ساخت زنجیره مکالمه\n",
    "\n",
    "حافظه باعث می‌شود چت‌بات بتواند پیام‌های قبلی را به خاطر بسپارد و پاسخ‌های هوشمندانه‌تر بدهد.\n",
    "</div>"
   ]
  },
  {
   "cell_type": "code",
   "execution_count": 2,
   "id": "a316bd42",
   "metadata": {},
   "outputs": [
    {
     "name": "stderr",
     "output_type": "stream",
     "text": [
      "<ipython-input-2-52068183186d>:5: LangChainDeprecationWarning: The class `ConversationChain` was deprecated in LangChain 0.2.7 and will be removed in 1.0. Use RunnableWithMessageHistory: https://python.langchain.com/v0.2/api_reference/core/runnables/langchain_core.runnables.history.RunnableWithMessageHistory.html instead.\n",
      "  conversation = ConversationChain(\n"
     ]
    }
   ],
   "source": [
    "from langchain.memory import ConversationBufferMemory\n",
    "from langchain.chains import ConversationChain\n",
    "\n",
    "memory = ConversationBufferMemory(return_messages=True)\n",
    "conversation = ConversationChain(\n",
    "    llm=llm,\n",
    "    memory=memory,\n",
    "    verbose=True\n",
    ")"
   ]
  },
  {
   "cell_type": "markdown",
   "id": "ee6eb497",
   "metadata": {},
   "source": [
    "<div dir=\"rtl\" align=\"right\">\n",
    "\n",
    "### اجرای یک مکالمه فارسی با حافظه\n",
    "\n",
    "در این بخش، چند پیام فارسی ارسال می‌کنیم تا ببینیم چت‌بات چطور مکالمه را به خاطر می‌سپارد.\n",
    "</div>"
   ]
  },
  {
   "cell_type": "code",
   "execution_count": 3,
   "id": "ee6eb497",
   "metadata": {},
   "outputs": [
    {
     "name": "stderr",
     "output_type": "stream",
     "text": [
      "Error in StdOutCallbackHandler.on_chain_start callback: AttributeError(\"'NoneType' object has no attribute 'get'\")\n"
     ]
    },
    {
     "name": "stdout",
     "output_type": "stream",
     "text": [
      "👤 شما: سلام! اسم من علی است.\n",
      "Prompt after formatting:\n",
      "\u001b[32;1m\u001b[1;3mThe following is a friendly conversation between a human and an AI. The AI is talkative and provides lots of specific details from its context. If the AI does not know the answer to a question, it truthfully says it does not know.\n",
      "\n",
      "Current conversation:\n",
      "[]\n",
      "Human: سلام! اسم من علی است.\n",
      "AI:\u001b[0m\n"
     ]
    },
    {
     "name": "stderr",
     "output_type": "stream",
     "text": [
      "Error in StdOutCallbackHandler.on_chain_start callback: AttributeError(\"'NoneType' object has no attribute 'get'\")\n"
     ]
    },
    {
     "name": "stdout",
     "output_type": "stream",
     "text": [
      "\n",
      "\u001b[1m> Finished chain.\u001b[0m\n",
      "🤖 بات: مرحبا علی! خوشحال می‌شوم که با من صحبت می‌کنی. من می‌توانم به زبان فارسی صحبت کنم، اما باید بگویم که من یک مدل زبان مصنوعی هستم و از زبان‌های مختلفی در جهان آشنا هستم. زبان فارسی یکی از زبان‌های مهم و زیبای جهان است که در ایران و افغانستان و تاجیکستان و چندین کشور دیگر صحبت می‌شود. آیا می‌خواهی درباره زبان فارسی یا کشور ایران صحبت کنیم؟\n",
      "\n",
      "👤 شما: چه خبر؟\n",
      "Prompt after formatting:\n",
      "\u001b[32;1m\u001b[1;3mThe following is a friendly conversation between a human and an AI. The AI is talkative and provides lots of specific details from its context. If the AI does not know the answer to a question, it truthfully says it does not know.\n",
      "\n",
      "Current conversation:\n",
      "[HumanMessage(content='سلام! اسم من علی است.'), AIMessage(content='مرحبا علی! خوشحال می\\u200cشوم که با من صحبت می\\u200cکنی. من می\\u200cتوانم به زبان فارسی صحبت کنم، اما باید بگویم که من یک مدل زبان مصنوعی هستم و از زبان\\u200cهای مختلفی در جهان آشنا هستم. زبان فارسی یکی از زبان\\u200cهای مهم و زیبای جهان است که در ایران و افغانستان و تاجیکستان و چندین کشور دیگر صحبت می\\u200cشود. آیا می\\u200cخواهی درباره زبان فارسی یا کشور ایران صحبت کنیم؟')]\n",
      "Human: چه خبر؟\n",
      "AI:\u001b[0m\n"
     ]
    },
    {
     "name": "stderr",
     "output_type": "stream",
     "text": [
      "Error in StdOutCallbackHandler.on_chain_start callback: AttributeError(\"'NoneType' object has no attribute 'get'\")\n"
     ]
    },
    {
     "name": "stdout",
     "output_type": "stream",
     "text": [
      "\n",
      "\u001b[1m> Finished chain.\u001b[0m\n",
      "🤖 بات: خوب که پرسیدی! چه خبر؟ در واقع، من همیشه آماده پاسخگویی به سوالاتت هستم. اگر می‌خواهی درباره زبان فارسی یا کشور ایران صحبت کنیم، من می‌توانم به تو اطلاعات زیادی در مورد این موضوعات بدهم. اما اگر می‌خواهی درباره چیز دیگری صحبت کنیم، من همواره آماده پاسخگویی به سوالاتت هستم. برای مثال، می‌توانیم درباره تاریخ ایران صحبت کنیم، یا درباره فرهنگ و هنر این کشور. یا اگر می‌خواهی درباره زبان فارسی صحبت کنیم، می‌توانیم درباره ساختار زبان، واژگان، و نحو آن صحبت کنیم. یا اگر می‌خواهی درباره کشور ایران صحبت کنیم، می‌توانیم درباره جغرافیا، اقتصاد، و سیاست این کشور صحبت کنیم. بنابراین، انتخابت آزاد است!\n",
      "\n",
      "👤 شما: یادته اسم من چی بود؟\n",
      "Prompt after formatting:\n",
      "\u001b[32;1m\u001b[1;3mThe following is a friendly conversation between a human and an AI. The AI is talkative and provides lots of specific details from its context. If the AI does not know the answer to a question, it truthfully says it does not know.\n",
      "\n",
      "Current conversation:\n",
      "[HumanMessage(content='سلام! اسم من علی است.'), AIMessage(content='مرحبا علی! خوشحال می\\u200cشوم که با من صحبت می\\u200cکنی. من می\\u200cتوانم به زبان فارسی صحبت کنم، اما باید بگویم که من یک مدل زبان مصنوعی هستم و از زبان\\u200cهای مختلفی در جهان آشنا هستم. زبان فارسی یکی از زبان\\u200cهای مهم و زیبای جهان است که در ایران و افغانستان و تاجیکستان و چندین کشور دیگر صحبت می\\u200cشود. آیا می\\u200cخواهی درباره زبان فارسی یا کشور ایران صحبت کنیم؟'), HumanMessage(content='چه خبر؟'), AIMessage(content='خوب که پرسیدی! چه خبر؟ در واقع، من همیشه آماده پاسخگویی به سوالاتت هستم. اگر می\\u200cخواهی درباره زبان فارسی یا کشور ایران صحبت کنیم، من می\\u200cتوانم به تو اطلاعات زیادی در مورد این موضوعات بدهم. اما اگر می\\u200cخواهی درباره چیز دیگری صحبت کنیم، من همواره آماده پاسخگویی به سوالاتت هستم. برای مثال، می\\u200cتوانیم درباره تاریخ ایران صحبت کنیم، یا درباره فرهنگ و هنر این کشور. یا اگر می\\u200cخواهی درباره زبان فارسی صحبت کنیم، می\\u200cتوانیم درباره ساختار زبان، واژگان، و نحو آن صحبت کنیم. یا اگر می\\u200cخواهی درباره کشور ایران صحبت کنیم، می\\u200cتوانیم درباره جغرافیا، اقتصاد، و سیاست این کشور صحبت کنیم. بنابراین، انتخابت آزاد است!')]\n",
      "Human: یادته اسم من چی بود؟\n",
      "AI:\u001b[0m\n"
     ]
    },
    {
     "name": "stderr",
     "output_type": "stream",
     "text": [
      "Error in StdOutCallbackHandler.on_chain_start callback: AttributeError(\"'NoneType' object has no attribute 'get'\")\n"
     ]
    },
    {
     "name": "stdout",
     "output_type": "stream",
     "text": [
      "\n",
      "\u001b[1m> Finished chain.\u001b[0m\n",
      "🤖 بات: علی! من یادم هست که تو خودت هم گفتی که اسمت علی است.\n",
      "\n",
      "👤 شما: یه لطیفه بگو.\n",
      "Prompt after formatting:\n",
      "\u001b[32;1m\u001b[1;3mThe following is a friendly conversation between a human and an AI. The AI is talkative and provides lots of specific details from its context. If the AI does not know the answer to a question, it truthfully says it does not know.\n",
      "\n",
      "Current conversation:\n",
      "[HumanMessage(content='سلام! اسم من علی است.'), AIMessage(content='مرحبا علی! خوشحال می\\u200cشوم که با من صحبت می\\u200cکنی. من می\\u200cتوانم به زبان فارسی صحبت کنم، اما باید بگویم که من یک مدل زبان مصنوعی هستم و از زبان\\u200cهای مختلفی در جهان آشنا هستم. زبان فارسی یکی از زبان\\u200cهای مهم و زیبای جهان است که در ایران و افغانستان و تاجیکستان و چندین کشور دیگر صحبت می\\u200cشود. آیا می\\u200cخواهی درباره زبان فارسی یا کشور ایران صحبت کنیم؟'), HumanMessage(content='چه خبر؟'), AIMessage(content='خوب که پرسیدی! چه خبر؟ در واقع، من همیشه آماده پاسخگویی به سوالاتت هستم. اگر می\\u200cخواهی درباره زبان فارسی یا کشور ایران صحبت کنیم، من می\\u200cتوانم به تو اطلاعات زیادی در مورد این موضوعات بدهم. اما اگر می\\u200cخواهی درباره چیز دیگری صحبت کنیم، من همواره آماده پاسخگویی به سوالاتت هستم. برای مثال، می\\u200cتوانیم درباره تاریخ ایران صحبت کنیم، یا درباره فرهنگ و هنر این کشور. یا اگر می\\u200cخواهی درباره زبان فارسی صحبت کنیم، می\\u200cتوانیم درباره ساختار زبان، واژگان، و نحو آن صحبت کنیم. یا اگر می\\u200cخواهی درباره کشور ایران صحبت کنیم، می\\u200cتوانیم درباره جغرافیا، اقتصاد، و سیاست این کشور صحبت کنیم. بنابراین، انتخابت آزاد است!'), HumanMessage(content='یادته اسم من چی بود؟'), AIMessage(content='علی! من یادم هست که تو خودت هم گفتی که اسمت علی است.')]\n",
      "Human: یه لطیفه بگو.\n",
      "AI:\u001b[0m\n"
     ]
    },
    {
     "name": "stderr",
     "output_type": "stream",
     "text": [
      "Error in StdOutCallbackHandler.on_chain_start callback: AttributeError(\"'NoneType' object has no attribute 'get'\")\n"
     ]
    },
    {
     "name": "stdout",
     "output_type": "stream",
     "text": [
      "\n",
      "\u001b[1m> Finished chain.\u001b[0m\n",
      "🤖 بات: علی! من می‌توانم یک لطیفه برای تو بگویم. اما باید بگویم که لطیفه‌ها معمولاً بر اساس فرهنگ و زبان خاصی هستند. اما من سعی می‌کنم یک لطیفه را پیدا کنم که برای هر کسی قابل فهم باشد. \n",
      "\n",
      "یک روز، یک مرد به دکتر گفت: \"دکتر، من دچار یک بیماری عجیب شده‌ام. هر وقت که من به یک در را می‌زنم، صدای \"بیمار\" می‌شنوم!\" \n",
      "\n",
      "دکتر گفت: \"این یک بیماری عجیب است. اما من می‌توانم تو را درمان کنم. فقط باید تو به من بگویی که در کجاست!\" \n",
      "\n",
      "آیا این لطیفه برای تو خوش آمد؟\n",
      "\n",
      "👤 شما: اسم خودت رو بگو.\n",
      "Prompt after formatting:\n",
      "\u001b[32;1m\u001b[1;3mThe following is a friendly conversation between a human and an AI. The AI is talkative and provides lots of specific details from its context. If the AI does not know the answer to a question, it truthfully says it does not know.\n",
      "\n",
      "Current conversation:\n",
      "[HumanMessage(content='سلام! اسم من علی است.'), AIMessage(content='مرحبا علی! خوشحال می\\u200cشوم که با من صحبت می\\u200cکنی. من می\\u200cتوانم به زبان فارسی صحبت کنم، اما باید بگویم که من یک مدل زبان مصنوعی هستم و از زبان\\u200cهای مختلفی در جهان آشنا هستم. زبان فارسی یکی از زبان\\u200cهای مهم و زیبای جهان است که در ایران و افغانستان و تاجیکستان و چندین کشور دیگر صحبت می\\u200cشود. آیا می\\u200cخواهی درباره زبان فارسی یا کشور ایران صحبت کنیم؟'), HumanMessage(content='چه خبر؟'), AIMessage(content='خوب که پرسیدی! چه خبر؟ در واقع، من همیشه آماده پاسخگویی به سوالاتت هستم. اگر می\\u200cخواهی درباره زبان فارسی یا کشور ایران صحبت کنیم، من می\\u200cتوانم به تو اطلاعات زیادی در مورد این موضوعات بدهم. اما اگر می\\u200cخواهی درباره چیز دیگری صحبت کنیم، من همواره آماده پاسخگویی به سوالاتت هستم. برای مثال، می\\u200cتوانیم درباره تاریخ ایران صحبت کنیم، یا درباره فرهنگ و هنر این کشور. یا اگر می\\u200cخواهی درباره زبان فارسی صحبت کنیم، می\\u200cتوانیم درباره ساختار زبان، واژگان، و نحو آن صحبت کنیم. یا اگر می\\u200cخواهی درباره کشور ایران صحبت کنیم، می\\u200cتوانیم درباره جغرافیا، اقتصاد، و سیاست این کشور صحبت کنیم. بنابراین، انتخابت آزاد است!'), HumanMessage(content='یادته اسم من چی بود؟'), AIMessage(content='علی! من یادم هست که تو خودت هم گفتی که اسمت علی است.'), HumanMessage(content='یه لطیفه بگو.'), AIMessage(content='علی! من می\\u200cتوانم یک لطیفه برای تو بگویم. اما باید بگویم که لطیفه\\u200cها معمولاً بر اساس فرهنگ و زبان خاصی هستند. اما من سعی می\\u200cکنم یک لطیفه را پیدا کنم که برای هر کسی قابل فهم باشد. \\n\\nیک روز، یک مرد به دکتر گفت: \"دکتر، من دچار یک بیماری عجیب شده\\u200cام. هر وقت که من به یک در را می\\u200cزنم، صدای \"بیمار\" می\\u200cشنوم!\" \\n\\nدکتر گفت: \"این یک بیماری عجیب است. اما من می\\u200cتوانم تو را درمان کنم. فقط باید تو به من بگویی که در کجاست!\" \\n\\nآیا این لطیفه برای تو خوش آمد؟')]\n",
      "Human: اسم خودت رو بگو.\n",
      "AI:\u001b[0m\n",
      "\n",
      "\u001b[1m> Finished chain.\u001b[0m\n",
      "🤖 بات: من یک مدل زبان مصنوعی هستم و نام من در این گفتگو از ابتدا \"AI\" بوده است.\n",
      "\n"
     ]
    }
   ],
   "source": [
    "inputs = [\n",
    "    \"سلام! اسم من علی است.\",\n",
    "    \"چه خبر؟\",\n",
    "    \"یادته اسم من چی بود؟\",\n",
    "    \"یه لطیفه بگو.\",\n",
    "    \"اسم خودت رو بگو.\"\n",
    " ]\n",
    "\n",
    "for msg in inputs:\n",
    "    print(f\"👤 شما: {msg}\")\n",
    "    response = conversation.predict(input=msg)\n",
    "    print(f\"🤖 بات: {response}\\n\")"
   ]
  },
  {
   "cell_type": "markdown",
   "id": "2df2db70",
   "metadata": {},
   "source": [
    "<div dir=\"rtl\" align=\"right\">\n",
    "\n",
    "### نمایش حافظه مکالمه\n",
    "\n",
    "حالا حافظه چت‌بات را نمایش می‌دهیم تا ببینیم چه چیزهایی ذخیره شده‌اند.\n",
    "</div>"
   ]
  },
  {
   "cell_type": "code",
   "execution_count": 4,
   "id": "6dd4af66",
   "metadata": {},
   "outputs": [
    {
     "name": "stdout",
     "output_type": "stream",
     "text": [
      "🧠 حافظه مکالمه تا اینجا:\n",
      "content='سلام! اسم من علی است.'\n",
      "content='مرحبا علی! خوشحال می\\u200cشوم که با من صحبت می\\u200cکنی. من می\\u200cتوانم به زبان فارسی صحبت کنم، اما باید بگویم که من یک مدل زبان مصنوعی هستم و از زبان\\u200cهای مختلفی در جهان آشنا هستم. زبان فارسی یکی از زبان\\u200cهای مهم و زیبای جهان است که در ایران و افغانستان و تاجیکستان و چندین کشور دیگر صحبت می\\u200cشود. آیا می\\u200cخواهی درباره زبان فارسی یا کشور ایران صحبت کنیم؟'\n",
      "content='چه خبر؟'\n",
      "content='خوب که پرسیدی! چه خبر؟ در واقع، من همیشه آماده پاسخگویی به سوالاتت هستم. اگر می\\u200cخواهی درباره زبان فارسی یا کشور ایران صحبت کنیم، من می\\u200cتوانم به تو اطلاعات زیادی در مورد این موضوعات بدهم. اما اگر می\\u200cخواهی درباره چیز دیگری صحبت کنیم، من همواره آماده پاسخگویی به سوالاتت هستم. برای مثال، می\\u200cتوانیم درباره تاریخ ایران صحبت کنیم، یا درباره فرهنگ و هنر این کشور. یا اگر می\\u200cخواهی درباره زبان فارسی صحبت کنیم، می\\u200cتوانیم درباره ساختار زبان، واژگان، و نحو آن صحبت کنیم. یا اگر می\\u200cخواهی درباره کشور ایران صحبت کنیم، می\\u200cتوانیم درباره جغرافیا، اقتصاد، و سیاست این کشور صحبت کنیم. بنابراین، انتخابت آزاد است!'\n",
      "content='یادته اسم من چی بود؟'\n",
      "content='علی! من یادم هست که تو خودت هم گفتی که اسمت علی است.'\n",
      "content='یه لطیفه بگو.'\n",
      "content='علی! من می\\u200cتوانم یک لطیفه برای تو بگویم. اما باید بگویم که لطیفه\\u200cها معمولاً بر اساس فرهنگ و زبان خاصی هستند. اما من سعی می\\u200cکنم یک لطیفه را پیدا کنم که برای هر کسی قابل فهم باشد. \\n\\nیک روز، یک مرد به دکتر گفت: \"دکتر، من دچار یک بیماری عجیب شده\\u200cام. هر وقت که من به یک در را می\\u200cزنم، صدای \"بیمار\" می\\u200cشنوم!\" \\n\\nدکتر گفت: \"این یک بیماری عجیب است. اما من می\\u200cتوانم تو را درمان کنم. فقط باید تو به من بگویی که در کجاست!\" \\n\\nآیا این لطیفه برای تو خوش آمد؟'\n",
      "content='اسم خودت رو بگو.'\n",
      "content='من یک مدل زبان مصنوعی هستم و نام من در این گفتگو از ابتدا \"AI\" بوده است.'\n"
     ]
    }
   ],
   "source": [
    "print(\"🧠 حافظه مکالمه تا اینجا:\")\n",
    "for m in memory.buffer:\n",
    "    print(m)"
   ]
  },
  {
   "cell_type": "markdown",
   "id": "2e05e01c",
   "metadata": {},
   "source": [
    "<div dir=\"rtl\" align=\"right\">\n",
    "\n",
    "### نکته پایانی\n",
    "\n",
    "حافظه در LangChain به شما کمک می‌کند چت‌بات‌هایی بسازید که مکالمه را فراموش نمی‌کنند و تجربه کاربری بهتری ارائه می‌دهند. در قسمت‌های بعدی، با انواع دیگر حافظه و کاربردهای پیشرفته‌تر آشنا می‌شویم.\n",
    "</div>"
   ]
  }
 ],
 "metadata": {
  "kernelspec": {
   "display_name": "base",
   "language": "python",
   "name": "python3"
  },
  "language_info": {
   "codemirror_mode": {
    "name": "ipython",
    "version": 3
   },
   "file_extension": ".py",
   "mimetype": "text/x-python",
   "name": "python",
   "nbconvert_exporter": "python",
   "pygments_lexer": "ipython3",
   "version": "3.8.8"
  }
 },
 "nbformat": 4,
 "nbformat_minor": 5
}
