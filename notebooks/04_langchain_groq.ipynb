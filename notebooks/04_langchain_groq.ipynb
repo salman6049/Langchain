{
 "cells": [
  {
   "cell_type": "markdown",
   "id": "a99749bf",
   "metadata": {},
   "source": [
    "<div dir=\"rtl\" align=\"right\">\n",
    "\n",
    "# شروع کار با LangChain و Groq\n",
    "در این بخش، با نحوه بارگذاری کلید Groq و آماده‌سازی محیط برای کار با LangChain و مدل‌های Groq آشنا می‌شویم.\n",
    "\n",
    "</div>"
   ]
  },
  {
   "cell_type": "markdown",
   "id": "e237af68",
   "metadata": {},
   "source": [
    "<div dir=\"rtl\" align=\"right\">\n",
    "\n",
    "### بارگذاری کلید Groq و آماده‌سازی محیط\n",
    "در این سلول، کلید Groq را از فایل `.env` بارگذاری می‌کنیم تا بتوانیم به مدل‌های زبانی Groq دسترسی داشته باشیم.\n",
    "\n",
    "</div>"
   ]
  },
  {
   "cell_type": "code",
   "execution_count": 1,
   "id": "ac7ec8a2",
   "metadata": {},
   "outputs": [],
   "source": [
    "from dotenv import load_dotenv\n",
    "import os\n",
    "\n",
    "load_dotenv()\n",
    "\n",
    "groq_api_key = os.getenv(\"GROQ_API_KEY\")"
   ]
  },
  {
   "cell_type": "markdown",
   "id": "8edcadb6",
   "metadata": {},
   "source": [
    "<div dir=\"rtl\" align=\"right\">\n",
    "\n",
    "### ساخت مدل زبانی Groq\n",
    "در این سلول، یک مدل زبانی Groq را با تنظیمات دلخواه مقداردهی می‌کنیم.\n",
    "\n",
    "</div>"
   ]
  },
  {
   "cell_type": "code",
   "execution_count": null,
   "id": "0b99c6b3",
   "metadata": {},
   "outputs": [
    {
     "name": "stdout",
     "output_type": "stream",
     "text": [
      "['Here are 10 name suggestions for a new product:', '', '1. **Aurora**: A name that evokes the idea of a new dawn and suggests innovation and progress.', '2. **Lumina**: A name that means \"light\" in Latin, implying illumination and understanding.', \"3. **Pulse**: A name that conveys energy and vitality, suggesting a product that's dynamic and engaging.\", '4. **Nexa**: A name that implies connection and integration, suggesting a product that brings people or things together.', \"5. **Flux**: A name that suggests change and adaptability, implying a product that's flexible and responsive.\", \"6. **Spectra**: A name that implies a range of possibilities and suggests a product that's versatile and multifaceted.\", \"7. **Apex**: A name that conveys excellence and achievement, suggesting a product that's top-notch and reliable.\", '8. **Nova**: A name that means \"new\" in Latin, implying a product that\\'s innovative and groundbreaking.', '9. **Catalyst**: A name that suggests a product that sparks change and drives progress.', \"10. **Paragon**: A name that conveys perfection and excellence, suggesting a product that's exceptional and of high quality.\", '', 'Remember to choose a name that reflects the values and personality of your brand, and that resonates with your target audience.']\n"
     ]
    }
   ],
   "source": [
    "from langchain_groq import ChatGroq\n",
    "\n",
    "#Mitoonid az model llama-3.3-70b-versatile ham estefade konid\n",
    "\n",
    "llm = ChatGroq(model=\"llama-3.1-8b-instant\", temperature=0.6)\n",
    "response = llm.invoke(\"Generate a list of 10 names for a new product.\")\n",
    "name_list = response.content.split(\"\\n\")\n",
    "print(name_list)"
   ]
  },
  {
   "cell_type": "markdown",
   "id": "304a066e",
   "metadata": {},
   "source": [
    "<div dir=\"rtl\" align=\"right\">\n",
    "\n",
    "### آشنایی با PromptTemplate\n",
    "در این سلول، با مفهوم قالب‌های پرامپت (PromptTemplate) آشنا می‌شویم و یک نمونه ساده با مدل Groq می‌سازیم.\n",
    "\n",
    "</div>"
   ]
  },
  {
   "cell_type": "code",
   "execution_count": 11,
   "id": "074ce468",
   "metadata": {},
   "outputs": [
    {
     "name": "stdout",
     "output_type": "stream",
     "text": [
      "Write a short message in Persian and in a friendly tone: Welcome to LangChain!\n"
     ]
    }
   ],
   "source": [
    "from langchain_core.prompts import PromptTemplate\n",
    "\n",
    "prompt = PromptTemplate(\n",
    "    template=\"Write a short message in {language} and in a {tone} tone: {message}\",\n",
    "    input_variables=[\"tone\", \"message\", \"language\"],\n",
    ")\n",
    "\n",
    "filled_prompt = prompt.format(tone=\"friendly\", language=\"Persian\", message=\"Welcome to LangChain!\")\n",
    "print(filled_prompt)"
   ]
  },
  {
   "cell_type": "markdown",
   "id": "4bef4438",
   "metadata": {},
   "source": [
    "<div dir=\"rtl\" align=\"right\">\n",
    "\n",
    "#### استفاده از قالب پرامپت برای تولید پیام با مدل Groq\n",
    "</div>"
   ]
  },
  {
   "cell_type": "code",
   "execution_count": 12,
   "id": "e8d6aaef",
   "metadata": {},
   "outputs": [
    {
     "name": "stdout",
     "output_type": "stream",
     "text": [
      "خوش آمدید به LangChain\n"
     ]
    }
   ],
   "source": [
    "response = llm.invoke(filled_prompt)\n",
    "print(response.content)"
   ]
  },
  {
   "cell_type": "markdown",
   "id": "8edb532c",
   "metadata": {},
   "source": [
    "<div dir=\"rtl\" align=\"right\">\n",
    "\n",
    "## گرفتن خروجی مدل Groq با استفاده از قالب پرامپت\n",
    "در این سلول، پیام ساخته‌شده را به مدل Groq می‌دهیم و خروجی مدل را مشاهده می‌کنیم.\n",
    "\n",
    "</div>"
   ]
  },
  {
   "cell_type": "code",
   "execution_count": 13,
   "id": "9e180b80",
   "metadata": {},
   "outputs": [
    {
     "name": "stdout",
     "output_type": "stream",
     "text": [
      "Title: Here are a few options for a catchy tutorial title in English and a friendly tone:\n",
      "\n",
      "1. **\"Link Up: A Beginner's Guide to LangChain\"**\n",
      "2. **\"Chatbot Magic with LangChain: A Step-by-Step Tutorial\"**\n",
      "3. **\"LangChain for Newbies: Build Your First Chatbot in Minutes\"**\n",
      "4. **\"Unlock LangChain's Power: A Beginner's Journey to AI Mastery\"**\n",
      "5. **\"LangChain 101: From Zero to Hero in Chatbot Development\"**\n",
      "6. **\"Get Started with LangChain: The Ultimate Beginner's Tutorial\"**\n",
      "7. **\"LangChain Made Easy: A Beginner's Guide to Building Intelligent Chatbots\"**\n",
      "8. **\"LangChain for Beginners: A Fun and Interactive Learning Experience\"**\n",
      "9. **\"LangChain in a Nutshell: A Beginner's Guide to Chatbot Development\"**\n",
      "10. **\"LangChain Unleashed: A Beginner's Guide to Building AI-Powered Chatbots\"**\n",
      "\n",
      "Choose the one that resonates with you the most, or feel free to modify any of these titles to fit your style!\n",
      "Description: **\"Chat Like a Pro: A Beginner's Guide to LangChain\"**\n",
      "\n",
      "Get ready to unlock the secrets of conversational AI with our beginner-friendly guide to LangChain. In this tutorial, we'll take you by the hand and show you how to build smarter conversations from scratch. Whether you're a developer looking to create chatbots or a beginner eager to explore the world of conversational AI, this tutorial is perfect for you.\n",
      "\n",
      "In this step-by-step guide, we'll cover the basics of LangChain, including:\n",
      "\n",
      "- Setting up your environment\n",
      "- Understanding LangChain's components\n",
      "- Building your first conversational model\n",
      "- Tips and tricks for optimizing your conversations\n",
      "\n",
      "By the end of this tutorial, you'll be chatting like a pro and ready to take on more advanced projects. So, let's get started and discover the power of LangChain together!\n"
     ]
    }
   ],
   "source": [
    "from langchain_core.prompts import PromptTemplate\n",
    "from langchain_core.output_parsers import StrOutputParser\n",
    "from langchain_core.runnables import RunnablePassthrough\n",
    "\n",
    "# Title prompt template\n",
    "prompt_title = PromptTemplate(\n",
    "    template=\"Generate a catchy tutorial title in {language} and in a {tone} tone for: {message}\",\n",
    "    input_variables=[\"tone\", \"message\", \"language\"],\n",
    ")\n",
    "\n",
    "# Description prompt template\n",
    "prompt_desc = PromptTemplate(\n",
    "    template=\"Write a short description for a tutorial titled '{title}' in {language} and in a {tone} tone. The topic is: {message}\",\n",
    "    input_variables=[\"tone\", \"message\", \"language\", \"title\"],\n",
    ")\n",
    "\n",
    "# Output parser\n",
    "output_parser = StrOutputParser()\n",
    "\n",
    "# Title chain\n",
    "title_chain = prompt_title | llm | output_parser\n",
    "\n",
    "# Description chain (takes the output of title_chain)\n",
    "desc_chain = (\n",
    "    RunnablePassthrough.assign(title=title_chain)\n",
    "    | prompt_desc\n",
    "    | llm\n",
    "    | output_parser\n",
    ")\n",
    "\n",
    "# Example inputs\n",
    "inputs = {\"tone\": \"friendly\", \"language\": \"English\", \"message\": \"How to use LangChain for beginners\"}\n",
    "\n",
    "title = title_chain.invoke(inputs)\n",
    "description = desc_chain.invoke(inputs)\n",
    "\n",
    "print(\"Title:\", title)\n",
    "print(\"Description:\", description)"
   ]
  },
  {
   "cell_type": "markdown",
   "id": "56c61e56",
   "metadata": {},
   "source": [
    "<div dir=\"rtl\" align=\"right\">\n",
    "\n",
    "## پیاده‌سازی زنجیره تولید عنوان و توضیح آموزش با مدل Groq\n",
    "در این سلول، دو زنجیره ساده برای تولید عنوان و توضیح آموزش با مدل Groq پیاده‌سازی می‌کنیم و نتیجه را نمایش می‌دهیم.\n",
    "\n",
    "</div>"
   ]
  },
  {
   "cell_type": "code",
   "execution_count": 14,
   "id": "0446c36a",
   "metadata": {},
   "outputs": [
    {
     "name": "stdout",
     "output_type": "stream",
     "text": [
      "Title: کد نویسی آسان با LangChain برای مبتدیان: چگونه با استفاده از LangChain یک سیستم یادگیری ماشین قدرتمند بسازید\n",
      "\n",
      "(Translation: Easy Coding with LangChain for Beginners: How to Create a Powerful Machine Learning System using LangChain)\n",
      "\n",
      "Alternatively:\n",
      "\n",
      "راهنمای کامل LangChain برای مبتدیان: از مقدمات تا ساخت سیستم های یادگیری ماشین پیشرفته\n",
      "\n",
      "(Translation: Complete Guide to LangChain for Beginners: From Basics to Building Advanced Machine Learning Systems)\n",
      "\n",
      "Alternatively:\n",
      "\n",
      " LangChain در 10 دقیقه: یک مقدمه ی جامع برای مبتدیان\n",
      "\n",
      "(Translation: LangChain in 10 Minutes: A Comprehensive Introduction for Beginners)\n",
      "Description: **عنوان:** LangChain را در 5 دقیقه بیاموزید: چگونه یک برنامه‌نویس مبتدی LangChain را به کار ببندد!\n",
      "\n",
      "**توضیحات:** در این دوره آموزشی جامع و آسان، به شما یاد خواهیم داد که چگونه LangChain را به کار ببندید و از آن برای پروژه‌های خود استفاده کنید. ما در این دوره به مباحث مقدماتی LangChain می‌پردازیم و شما را از طریق مراحل مختلف یک پروژه آشنا می‌کنیم. با ما همراه باشید و در پنج دقیقه، یک برنامه‌نویس مبتدی LangChain باشید!\n"
     ]
    }
   ],
   "source": [
    "from langchain_core.prompts import PromptTemplate\n",
    "from langchain_core.output_parsers import StrOutputParser\n",
    "from langchain_core.runnables import RunnablePassthrough\n",
    "\n",
    "# Title prompt template\n",
    "prompt_title = PromptTemplate(\n",
    "    template=\"Generate a catchy tutorial title in {language} and in a {tone} tone for: {message}\",\n",
    "    input_variables=[\"tone\", \"message\", \"language\"],\n",
    ")\n",
    "\n",
    "# Description prompt template\n",
    "prompt_desc = PromptTemplate(\n",
    "    template=\"Write a short description for a tutorial titled '{title}' in {language} and in a {tone} tone. The topic is: {message}\",\n",
    "    input_variables=[\"tone\", \"message\", \"language\", \"title\"],\n",
    ")\n",
    "\n",
    "# Output parser\n",
    "output_parser = StrOutputParser()\n",
    "\n",
    "# Title chain\n",
    "title_chain = prompt_title | llm | output_parser\n",
    "\n",
    "# Description chain (takes the output of title_chain)\n",
    "desc_chain = (\n",
    "    RunnablePassthrough.assign(title=title_chain)\n",
    "    | prompt_desc\n",
    "    | llm\n",
    "    | output_parser\n",
    ")\n",
    "\n",
    "# Example inputs\n",
    "inputs = {\"tone\": \"friendly\", \"language\": \"Persian\", \"message\": \"How to use LangChain for beginners\"}\n",
    "\n",
    "title = title_chain.invoke(inputs)\n",
    "description = desc_chain.invoke(inputs)\n",
    "\n",
    "print(\"Title:\", title)\n",
    "print(\"Description:\", description)"
   ]
  },
  {
   "cell_type": "markdown",
   "id": "94adc183",
   "metadata": {},
   "source": [
    "<div dir=\"rtl\" align=\"right\">\n",
    "\n",
    "الان می‌تونید با تغییر «tone»، «language» یا «message» در دیکشنری «inputs» آزمایش کنید تا ببینید عنوان و توضیحات چجوری تغییر می‌کنند. این نشون میده که چجوری زنجیره‌ها به ما امکان می‌دهند گردش‌های کاری پیچیده‌تر و ماژولارتری را در LangChain با مدل Groq بسازیم.\n",
    "\n",
    "</div>"
   ]
  }
 ],
 "metadata": {
  "kernelspec": {
   "display_name": "base",
   "language": "python",
   "name": "python3"
  },
  "language_info": {
   "codemirror_mode": {
    "name": "ipython",
    "version": 3
   },
   "file_extension": ".py",
   "mimetype": "text/x-python",
   "name": "python",
   "nbconvert_exporter": "python",
   "pygments_lexer": "ipython3",
   "version": "3.8.8"
  }
 },
 "nbformat": 4,
 "nbformat_minor": 5
}
